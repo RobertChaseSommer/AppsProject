{
 "cells": [
  {
   "cell_type": "markdown",
   "metadata": {},
   "source": [
    "# Data Science Project: Profitable App Profiles#\n",
    "\n",
    "In this project, I will be pretending to be a data analyst that works for an app developer company.\n",
    "\n",
    "The company only makes free apps and generates its revenue via ads. The goal of the company is to have as many users of the apps because revenue is based off of how many people see an ad. \n",
    "\n",
    "The goal of the project is to demonstrate what types of apps are more likely to be successful in attaining a large amount of users.\n",
    "\n",
    "\n",
    "Let me know if you have any questions! You may email me at: robertchasesommer@gmail.com\n"
   ]
  },
  {
   "cell_type": "markdown",
   "metadata": {},
   "source": [
    "I will be using the Google Play Store and Apple datasets from Kaggle.\n",
    "\n",
    "Google: https://www.kaggle.com/lava18/google-play-store-apps/home\n",
    "\n",
    "Apple: https://www.kaggle.com/ramamet4/app-store-apple-data-set-10k-apps/home"
   ]
  },
  {
   "cell_type": "markdown",
   "metadata": {},
   "source": [
    "# Step 1: Loading the data"
   ]
  },
  {
   "cell_type": "markdown",
   "metadata": {},
   "source": [
    "This is code I use to open my files:"
   ]
  },
  {
   "cell_type": "code",
   "execution_count": 1,
   "metadata": {},
   "outputs": [],
   "source": [
    "from csv import reader\n",
    "\n",
    "opened_file1 = open('AppleStore.csv', encoding='utf8')\n",
    "read_file1 = reader(opened_file1)\n",
    "Apple = list(read_file1)\n",
    "\n",
    "opened_file2 = open('googleplaystore.csv', encoding='utf8')\n",
    "read_file2 = reader(opened_file2)\n",
    "Google = list(read_file2)"
   ]
  },
  {
   "cell_type": "markdown",
   "metadata": {},
   "source": [
    "The function below was created by DataQuest. It is used to explore a dataset. "
   ]
  },
  {
   "cell_type": "code",
   "execution_count": 2,
   "metadata": {},
   "outputs": [],
   "source": [
    "def explore_data(dataset, start, end, rows_and_columns=False):\n",
    "    dataset_slice = dataset[start:end]    \n",
    "    for row in dataset_slice:\n",
    "        print(row)\n",
    "        print('\\n') # adds a new (empty) line after each row\n",
    "\n",
    "    if rows_and_columns:\n",
    "        print('Number of rows:', len(dataset))\n",
    "        print('Number of columns:', len(dataset[0]))"
   ]
  },
  {
   "cell_type": "code",
   "execution_count": 3,
   "metadata": {},
   "outputs": [
    {
     "name": "stdout",
     "output_type": "stream",
     "text": [
      "['', 'id', 'track_name', 'size_bytes', 'currency', 'price', 'rating_count_tot', 'rating_count_ver', 'user_rating', 'user_rating_ver', 'ver', 'cont_rating', 'prime_genre', 'sup_devices.num', 'ipadSc_urls.num', 'lang.num', 'vpp_lic']\n",
      "\n",
      "\n",
      "['1', '281656475', 'PAC-MAN Premium', '100788224', 'USD', '3.99', '21292', '26', '4', '4.5', '6.3.5', '4+', 'Games', '38', '5', '10', '1']\n",
      "\n",
      "\n",
      "['2', '281796108', 'Evernote - stay organized', '158578688', 'USD', '0', '161065', '26', '4', '3.5', '8.2.2', '4+', 'Productivity', '37', '5', '23', '1']\n",
      "\n",
      "\n"
     ]
    }
   ],
   "source": [
    "explore_data(Apple, 0, 3)"
   ]
  },
  {
   "cell_type": "code",
   "execution_count": 4,
   "metadata": {},
   "outputs": [
    {
     "name": "stdout",
     "output_type": "stream",
     "text": [
      "['App', 'Category', 'Rating', 'Reviews', 'Size', 'Installs', 'Type', 'Price', 'Content Rating', 'Genres', 'Last Updated', 'Current Ver', 'Android Ver']\n",
      "\n",
      "\n",
      "['Photo Editor & Candy Camera & Grid & ScrapBook', 'ART_AND_DESIGN', '4.1', '159', '19M', '10,000+', 'Free', '0', 'Everyone', 'Art & Design', 'January 7, 2018', '1.0.0', '4.0.3 and up']\n",
      "\n",
      "\n",
      "['Coloring book moana', 'ART_AND_DESIGN', '3.9', '967', '14M', '500,000+', 'Free', '0', 'Everyone', 'Art & Design;Pretend Play', 'January 15, 2018', '2.0.0', '4.0.3 and up']\n",
      "\n",
      "\n"
     ]
    }
   ],
   "source": [
    "explore_data(Google, 0 ,3)"
   ]
  },
  {
   "cell_type": "markdown",
   "metadata": {},
   "source": [
    "By looking at the headers, I am able to see that there are similar columns but with different names. Here is a chart of similar names for the same values.\n",
    "\n",
    "|Apple | Google|\n",
    "|---|---|\n",
    "|track_name | App|\n",
    "|size_bytes | Size|\n",
    "|price | Price|\n",
    "|user_rating | Rating|\n",
    "|cont_rating | Content Rating|\n",
    "|prime_genre | Genres|\n",
    "\n",
    "This list is not meant to be exhaustive, but it meant to show that there are similar columns that we may be able to join the two different datasets on. How cool!\n",
    "\n",
    "\n"
   ]
  },
  {
   "cell_type": "markdown",
   "metadata": {},
   "source": [
    "# Step 2: Cleaning the data"
   ]
  },
  {
   "cell_type": "markdown",
   "metadata": {},
   "source": [
    "Now remember, the company that I work for is looking to create free apps in the english language. So, I will need to isolate the free and english apps in a new data set. \n",
    "\n",
    "Also, I will want to remove any duplicates. \n",
    "\n",
    "Looking at the discussion page on Kaggle, I can also see that there is a row that is wrong (entry 10472) on the Google dataset. I will want to fix that! \n"
   ]
  },
  {
   "cell_type": "code",
   "execution_count": 5,
   "metadata": {},
   "outputs": [
    {
     "name": "stdout",
     "output_type": "stream",
     "text": [
      "['Life Made WI-Fi Touchscreen Photo Frame', '1.9', '19', '3.0M', '1,000+', 'Free', '0', 'Everyone', '', 'February 11, 2018', '1.0.19', '4.0 and up']\n",
      "10842\n",
      "10841\n"
     ]
    }
   ],
   "source": [
    "print(Google[10473]) \n",
    "\n",
    "\"The value after 'Everyone' is blank. I will delete this column.\"\n",
    "print(len(Google))\n",
    "del(Google[10473])\n",
    "print(len(Google))"
   ]
  },
  {
   "cell_type": "markdown",
   "metadata": {},
   "source": [
    "The code below demonstrates that there are duplicates in the dataset. Specifically, Instagram is shown four times."
   ]
  },
  {
   "cell_type": "code",
   "execution_count": 6,
   "metadata": {},
   "outputs": [
    {
     "name": "stdout",
     "output_type": "stream",
     "text": [
      "['Instagram', 'SOCIAL', '4.5', '66577313', 'Varies with device', '1,000,000,000+', 'Free', '0', 'Teen', 'Social', 'July 31, 2018', 'Varies with device', 'Varies with device']\n",
      "['Instagram', 'SOCIAL', '4.5', '66577446', 'Varies with device', '1,000,000,000+', 'Free', '0', 'Teen', 'Social', 'July 31, 2018', 'Varies with device', 'Varies with device']\n",
      "['Instagram', 'SOCIAL', '4.5', '66577313', 'Varies with device', '1,000,000,000+', 'Free', '0', 'Teen', 'Social', 'July 31, 2018', 'Varies with device', 'Varies with device']\n",
      "['Instagram', 'SOCIAL', '4.5', '66509917', 'Varies with device', '1,000,000,000+', 'Free', '0', 'Teen', 'Social', 'July 31, 2018', 'Varies with device', 'Varies with device']\n"
     ]
    }
   ],
   "source": [
    "for app in Google:\n",
    "    appname = app[0]\n",
    "    if appname == 'Instagram':\n",
    "        print(app)"
   ]
  },
  {
   "cell_type": "markdown",
   "metadata": {},
   "source": [
    "The below code demonstrates that there are many duplicate rows. In fact, there are 1181 duplicates!"
   ]
  },
  {
   "cell_type": "code",
   "execution_count": 7,
   "metadata": {},
   "outputs": [
    {
     "name": "stdout",
     "output_type": "stream",
     "text": [
      "Number of distinct apps 9660\n",
      "Number of repeated apps 1181\n"
     ]
    }
   ],
   "source": [
    "distinct_apps = []\n",
    "repeated_apps = []\n",
    "\n",
    "for app in Google:\n",
    "    app_name = app[0]\n",
    "    if app_name in distinct_apps:\n",
    "        repeated_apps.append(app_name)\n",
    "    else:\n",
    "        distinct_apps.append(app_name)\n",
    "\n",
    "print('Number of distinct apps', len(distinct_apps))\n",
    "print('Number of repeated apps', len(repeated_apps))"
   ]
  },
  {
   "cell_type": "markdown",
   "metadata": {},
   "source": [
    "Going back to the code that demonstrates that there are duplicates of the Instagram app, let's see if there is a difference between the duplicate rows."
   ]
  },
  {
   "cell_type": "code",
   "execution_count": 8,
   "metadata": {},
   "outputs": [
    {
     "name": "stdout",
     "output_type": "stream",
     "text": [
      "['Instagram', 'SOCIAL', '4.5', '66577313', 'Varies with device', '1,000,000,000+', 'Free', '0', 'Teen', 'Social', 'July 31, 2018', 'Varies with device', 'Varies with device']\n",
      "['Instagram', 'SOCIAL', '4.5', '66577446', 'Varies with device', '1,000,000,000+', 'Free', '0', 'Teen', 'Social', 'July 31, 2018', 'Varies with device', 'Varies with device']\n",
      "['Instagram', 'SOCIAL', '4.5', '66577313', 'Varies with device', '1,000,000,000+', 'Free', '0', 'Teen', 'Social', 'July 31, 2018', 'Varies with device', 'Varies with device']\n",
      "['Instagram', 'SOCIAL', '4.5', '66509917', 'Varies with device', '1,000,000,000+', 'Free', '0', 'Teen', 'Social', 'July 31, 2018', 'Varies with device', 'Varies with device']\n"
     ]
    }
   ],
   "source": [
    "for app in Google:\n",
    "    appname = app[0]\n",
    "    if appname == 'Instagram':\n",
    "        print(app)"
   ]
  },
  {
   "cell_type": "markdown",
   "metadata": {},
   "source": [
    "As we can see, the number of ratings is different for each duplicate row. This might indicate that the person who scraped this data may have attempted more than once, or maybe the web scrapper malfunctioned. Either way, we need to remove the duplicates.\n",
    "\n",
    "I will not randomly pick which duplicates to delete. Instead, I will keep the duplicates with the highest number of ratings. The highest number of ratings implies that it was scrapped most recently.\n",
    "\n",
    "Going back the the Instagram example, I would keep the second row that has `66577446` ratings because it has the most ratings. "
   ]
  },
  {
   "cell_type": "code",
   "execution_count": 9,
   "metadata": {},
   "outputs": [
    {
     "name": "stdout",
     "output_type": "stream",
     "text": [
      "9659\n"
     ]
    }
   ],
   "source": [
    "reviews_max = {}\n",
    "\n",
    "for row in Google[1:]:\n",
    "    name = row[0]\n",
    "    n_reviews = float(row[3])\n",
    "    if name in reviews_max and reviews_max[name] < n_reviews:\n",
    "        reviews_max[name] = n_reviews\n",
    "    elif name not in reviews_max:\n",
    "        reviews_max[name] = n_reviews\n",
    "        \n",
    "print(len(reviews_max))\n",
    "    \n",
    "    "
   ]
  },
  {
   "cell_type": "markdown",
   "metadata": {},
   "source": [
    "The `reviews_max` dictionary will be used as a tool to create a clean dataset with no repeating rows. It is not the final dataset.\n",
    "\n",
    "The `reviews_max` will be used like a measuring stick to help find all of the rows witht the highest rating counts."
   ]
  },
  {
   "cell_type": "markdown",
   "metadata": {},
   "source": [
    "Below is a clean-er Google dataset! As a recap, we removed all duplicate rows in the Google dataset. "
   ]
  },
  {
   "cell_type": "code",
   "execution_count": 10,
   "metadata": {},
   "outputs": [
    {
     "name": "stdout",
     "output_type": "stream",
     "text": [
      "['Photo Editor & Candy Camera & Grid & ScrapBook', 'ART_AND_DESIGN', '4.1', '159', '19M', '10,000+', 'Free', '0', 'Everyone', 'Art & Design', 'January 7, 2018', '1.0.0', '4.0.3 and up']\n",
      "\n",
      "\n",
      "['U Launcher Lite – FREE Live Cool Themes, Hide Apps', 'ART_AND_DESIGN', '4.7', '87510', '8.7M', '5,000,000+', 'Free', '0', 'Everyone', 'Art & Design', 'August 1, 2018', '1.2.4', '4.0.3 and up']\n",
      "\n",
      "\n",
      "['Sketch - Draw & Paint', 'ART_AND_DESIGN', '4.5', '215644', '25M', '50,000,000+', 'Free', '0', 'Teen', 'Art & Design', 'June 8, 2018', 'Varies with device', '4.2 and up']\n",
      "\n",
      "\n",
      "Number of rows: 9659\n",
      "Number of columns: 13\n"
     ]
    }
   ],
   "source": [
    "Google_clean = []\n",
    "Google_added = []\n",
    "\n",
    "for row in Google[1:]:\n",
    "    name = row[0]\n",
    "    n_reviews = float(row[3])\n",
    "    if (n_reviews == reviews_max[name]) and (name not in Google_added):\n",
    "        Google_clean.append(row)\n",
    "        Google_added.append(name)\n",
    "        \n",
    "explore_data(Google_clean, 0,3, True)"
   ]
  },
  {
   "cell_type": "markdown",
   "metadata": {},
   "source": [
    "Remember, we are a company that is looking to develop English apps. So guess what we are doing next? Correct! Removing all non-english apps from the dataset. "
   ]
  },
  {
   "cell_type": "markdown",
   "metadata": {},
   "source": [
    "### Teaching session! ASCII\n",
    "\n",
    "So, in order to find all non-english apps we need to search for apps that contain non-english characters in the titles. How do we do this? First we need to have a brief understanding of ASCII (American Standard Code for Information Interchange).\n",
    "\n",
    "Each character in the alphabet has a number associated with it:\n",
    "a = 97\n",
    "A = 65\n",
    "5 = 53\n",
    "\n",
    "All English characters fall in the range from 0 to 127. A non english character would have a number greater than 127. For example:\n",
    "\n",
    "爱 = 29233\n",
    "\n",
    "Pretty interesting, right??"
   ]
  },
  {
   "cell_type": "markdown",
   "metadata": {},
   "source": [
    "Continuing with our project, we will want to find the apps with titles that contain characters that fall in the range of 0 to 127.\n",
    "\n",
    "We will use the function `ord()` to do this."
   ]
  },
  {
   "cell_type": "code",
   "execution_count": 11,
   "metadata": {},
   "outputs": [
    {
     "name": "stdout",
     "output_type": "stream",
     "text": [
      "True\n",
      "False\n",
      "False\n",
      "False\n",
      "8482\n",
      "128540\n"
     ]
    }
   ],
   "source": [
    "def is_english(string):\n",
    "    \n",
    "    for character in string:\n",
    "        if ord(character) > 127:\n",
    "            return False\n",
    "        \n",
    "    return True\n",
    "\n",
    "print(is_english('Instagram'))\n",
    "print(is_english('爱奇艺PPS -《欢乐颂2》电视剧热播'))\n",
    "print(is_english('Docs To Go™ Free Office Suite'))\n",
    "print(is_english('Instachat 😜'))\n",
    "\n",
    "print(ord('™'))\n",
    "print(ord('😜'))"
   ]
  },
  {
   "cell_type": "markdown",
   "metadata": {},
   "source": [
    "Notice that the 3rd and 4th entries are labelled as non-english. This is because emojies are not in the ASCII. To correct this we will change the function to only `return false` when there are 3 or more 127+ symbols. "
   ]
  },
  {
   "cell_type": "code",
   "execution_count": 12,
   "metadata": {},
   "outputs": [
    {
     "name": "stdout",
     "output_type": "stream",
     "text": [
      "True\n",
      "False\n",
      "True\n",
      "True\n",
      "8482\n",
      "128540\n"
     ]
    }
   ],
   "source": [
    "def is_english(string):\n",
    "    over = 0\n",
    "    for character in string:\n",
    "        if ord(character) > 127:\n",
    "            over += 1\n",
    "        if over >3:\n",
    "            return False\n",
    "        \n",
    "    return True\n",
    "\n",
    "print(is_english('Instagram'))\n",
    "print(is_english('爱奇艺PPS -《欢乐颂2》电视剧热播'))\n",
    "print(is_english('Docs To Go™ Free Office Suite'))\n",
    "print(is_english('Instachat 😜'))\n",
    "\n",
    "print(ord('™'))\n",
    "print(ord('😜'))"
   ]
  },
  {
   "cell_type": "markdown",
   "metadata": {},
   "source": [
    "It worked! Now let's use the `is_english()` function on both datasets to filter out non-english apps."
   ]
  },
  {
   "cell_type": "code",
   "execution_count": 13,
   "metadata": {},
   "outputs": [
    {
     "name": "stdout",
     "output_type": "stream",
     "text": [
      "['Photo Editor & Candy Camera & Grid & ScrapBook', 'ART_AND_DESIGN', '4.1', '159', '19M', '10,000+', 'Free', '0', 'Everyone', 'Art & Design', 'January 7, 2018', '1.0.0', '4.0.3 and up']\n",
      "\n",
      "\n",
      "['U Launcher Lite – FREE Live Cool Themes, Hide Apps', 'ART_AND_DESIGN', '4.7', '87510', '8.7M', '5,000,000+', 'Free', '0', 'Everyone', 'Art & Design', 'August 1, 2018', '1.2.4', '4.0.3 and up']\n",
      "\n",
      "\n",
      "['Sketch - Draw & Paint', 'ART_AND_DESIGN', '4.5', '215644', '25M', '50,000,000+', 'Free', '0', 'Teen', 'Art & Design', 'June 8, 2018', 'Varies with device', '4.2 and up']\n",
      "\n",
      "\n",
      "Number of rows: 9614\n",
      "Number of columns: 13\n",
      "\n",
      "\n",
      "['1', '281656475', 'PAC-MAN Premium', '100788224', 'USD', '3.99', '21292', '26', '4', '4.5', '6.3.5', '4+', 'Games', '38', '5', '10', '1']\n",
      "\n",
      "\n",
      "['2', '281796108', 'Evernote - stay organized', '158578688', 'USD', '0', '161065', '26', '4', '3.5', '8.2.2', '4+', 'Productivity', '37', '5', '23', '1']\n",
      "\n",
      "\n",
      "['3', '281940292', 'WeatherBug - Local Weather, Radar, Maps, Alerts', '100524032', 'USD', '0', '188583', '2822', '3.5', '4.5', '5.0.0', '4+', 'Weather', '37', '5', '3', '1']\n",
      "\n",
      "\n",
      "Number of rows: 6183\n",
      "Number of columns: 17\n"
     ]
    }
   ],
   "source": [
    "Google_clean_english = []\n",
    "Apple_english = []\n",
    "\n",
    "for row in Google_clean:\n",
    "    name = row[0]\n",
    "    if is_english(name):\n",
    "        Google_clean_english.append(row)\n",
    "        \n",
    "for row in Apple[1:]:\n",
    "    name = row[2]\n",
    "    if is_english(name):\n",
    "        Apple_english.append(row)\n",
    "        \n",
    "explore_data(Google_clean_english, 0, 3, True)\n",
    "print('\\n')\n",
    "explore_data(Apple_english, 0, 3, True)"
   ]
  },
  {
   "cell_type": "markdown",
   "metadata": {},
   "source": [
    "After filtering out non-english apps, we can see that there are 9614 apps in the Google Play Store and 6183 apps in the Apple Store. Cool beans."
   ]
  },
  {
   "cell_type": "markdown",
   "metadata": {},
   "source": [
    "#### Recap\n",
    "Ok, so far we have:\n",
    "    1. Removed inaccurate/distorted rows\n",
    "    2. Removed duplicate apps\n",
    "    3. Removed non-english apps\n",
    "\n",
    "Now, we will want to remove the non-free apps. Remember that our company only makes english, free apps."
   ]
  },
  {
   "cell_type": "code",
   "execution_count": 14,
   "metadata": {},
   "outputs": [
    {
     "name": "stdout",
     "output_type": "stream",
     "text": [
      "['App', 'Category', 'Rating', 'Reviews', 'Size', 'Installs', 'Type', 'Price', 'Content Rating', 'Genres', 'Last Updated', 'Current Ver', 'Android Ver']\n",
      "\n",
      "\n",
      "['', 'id', 'track_name', 'size_bytes', 'currency', 'price', 'rating_count_tot', 'rating_count_ver', 'user_rating', 'user_rating_ver', 'ver', 'cont_rating', 'prime_genre', 'sup_devices.num', 'ipadSc_urls.num', 'lang.num', 'vpp_lic']\n"
     ]
    }
   ],
   "source": [
    "print(Google[0])\n",
    "print('\\n')\n",
    "print(Apple[0])"
   ]
  },
  {
   "cell_type": "code",
   "execution_count": 15,
   "metadata": {},
   "outputs": [
    {
     "name": "stdout",
     "output_type": "stream",
     "text": [
      "8864\n",
      "3222\n"
     ]
    }
   ],
   "source": [
    "Google_free = []\n",
    "Apple_free = []\n",
    "\n",
    "for row in Google_clean_english:\n",
    "    price = row[7]\n",
    "    if price == '0':\n",
    "        Google_free.append(row)\n",
    "print(len(Google_free))\n",
    "    \n",
    "    \n",
    "    \n",
    "for row in Apple_english:\n",
    "    price = float(row[5])\n",
    "    if price == 0:\n",
    "        Apple_free.append(row)\n",
    "print(len(Apple_free))"
   ]
  },
  {
   "cell_type": "markdown",
   "metadata": {},
   "source": [
    "# Part 3: Analyzing Data\n",
    "\n",
    "Remember, our goal is to create an app that is most likely to have a large amount of users.\n",
    "\n",
    "Narrowing down our approach, we will:\n",
    "1. Build a minimal version of an app on the Google Play Store.\n",
    "2. If the app has a good response, we will develop it further.\n",
    "3. If the app is profitable after 6 months, we will create an iOS version.\n",
    "\n",
    "We will need to see what types of apps are likely to be a success on both Google and Apple stores. "
   ]
  },
  {
   "cell_type": "markdown",
   "metadata": {},
   "source": [
    "We will begin by looking at the most common genres of apps using frequency tables. "
   ]
  },
  {
   "cell_type": "markdown",
   "metadata": {},
   "source": [
    "The code below converts a dataset and the specified column into a frequency table. Then the frequency table is converted to percentages because it is easier to read this way. "
   ]
  },
  {
   "cell_type": "code",
   "execution_count": 16,
   "metadata": {},
   "outputs": [],
   "source": [
    "def freq_table(dataset, index):\n",
    "    table = {}\n",
    "    total = 0\n",
    "    \n",
    "    for row in dataset:\n",
    "        total += 1\n",
    "        column = row[index]\n",
    "        if column in table:\n",
    "            table[column] += 1\n",
    "        else:\n",
    "            table[column] = 1\n",
    "    \n",
    "    table_percentages = {}\n",
    "    for key in table:\n",
    "        percentage = round(((table[key] / total) * 100),2)\n",
    "        table_percentages[key] = percentage\n",
    "        \n",
    "    return table_percentages\n",
    "        \n",
    "            \n",
    "    \n",
    "    "
   ]
  },
  {
   "cell_type": "code",
   "execution_count": 17,
   "metadata": {},
   "outputs": [
    {
     "data": {
      "text/plain": [
       "{'Art & Design': 0.6,\n",
       " 'Art & Design;Creativity': 0.07,\n",
       " 'Auto & Vehicles': 0.93,\n",
       " 'Beauty': 0.6,\n",
       " 'Books & Reference': 2.14,\n",
       " 'Business': 4.59,\n",
       " 'Comics': 0.61,\n",
       " 'Comics;Creativity': 0.01,\n",
       " 'Communication': 3.24,\n",
       " 'Dating': 1.86,\n",
       " 'Education': 5.35,\n",
       " 'Education;Creativity': 0.05,\n",
       " 'Education;Education': 0.34,\n",
       " 'Education;Pretend Play': 0.06,\n",
       " 'Education;Brain Games': 0.03,\n",
       " 'Entertainment': 6.07,\n",
       " 'Entertainment;Brain Games': 0.08,\n",
       " 'Entertainment;Creativity': 0.03,\n",
       " 'Entertainment;Music & Video': 0.17,\n",
       " 'Events': 0.71,\n",
       " 'Finance': 3.7,\n",
       " 'Food & Drink': 1.24,\n",
       " 'Health & Fitness': 3.08,\n",
       " 'House & Home': 0.82,\n",
       " 'Libraries & Demo': 0.94,\n",
       " 'Lifestyle': 3.89,\n",
       " 'Lifestyle;Pretend Play': 0.01,\n",
       " 'Card': 0.45,\n",
       " 'Arcade': 1.85,\n",
       " 'Puzzle': 1.13,\n",
       " 'Racing': 0.99,\n",
       " 'Sports': 3.46,\n",
       " 'Casual': 1.76,\n",
       " 'Simulation': 2.04,\n",
       " 'Adventure': 0.68,\n",
       " 'Trivia': 0.42,\n",
       " 'Action': 3.1,\n",
       " 'Word': 0.26,\n",
       " 'Role Playing': 0.94,\n",
       " 'Strategy': 0.91,\n",
       " 'Board': 0.38,\n",
       " 'Music': 0.2,\n",
       " 'Action;Action & Adventure': 0.1,\n",
       " 'Casual;Brain Games': 0.14,\n",
       " 'Educational;Creativity': 0.03,\n",
       " 'Puzzle;Brain Games': 0.17,\n",
       " 'Educational;Education': 0.39,\n",
       " 'Casual;Pretend Play': 0.24,\n",
       " 'Educational;Brain Games': 0.07,\n",
       " 'Art & Design;Pretend Play': 0.01,\n",
       " 'Educational;Pretend Play': 0.09,\n",
       " 'Entertainment;Education': 0.01,\n",
       " 'Casual;Education': 0.02,\n",
       " 'Casual;Creativity': 0.07,\n",
       " 'Casual;Action & Adventure': 0.14,\n",
       " 'Music;Music & Video': 0.02,\n",
       " 'Arcade;Pretend Play': 0.01,\n",
       " 'Adventure;Action & Adventure': 0.03,\n",
       " 'Role Playing;Action & Adventure': 0.03,\n",
       " 'Simulation;Pretend Play': 0.02,\n",
       " 'Puzzle;Creativity': 0.02,\n",
       " 'Simulation;Action & Adventure': 0.08,\n",
       " 'Racing;Action & Adventure': 0.17,\n",
       " 'Sports;Action & Adventure': 0.02,\n",
       " 'Educational;Action & Adventure': 0.03,\n",
       " 'Arcade;Action & Adventure': 0.12,\n",
       " 'Entertainment;Action & Adventure': 0.03,\n",
       " 'Art & Design;Action & Adventure': 0.01,\n",
       " 'Puzzle;Action & Adventure': 0.03,\n",
       " 'Education;Action & Adventure': 0.03,\n",
       " 'Strategy;Action & Adventure': 0.01,\n",
       " 'Music & Audio;Music & Video': 0.01,\n",
       " 'Health & Fitness;Education': 0.01,\n",
       " 'Board;Action & Adventure': 0.02,\n",
       " 'Board;Brain Games': 0.08,\n",
       " 'Casual;Music & Video': 0.01,\n",
       " 'Education;Music & Video': 0.03,\n",
       " 'Role Playing;Pretend Play': 0.05,\n",
       " 'Entertainment;Pretend Play': 0.02,\n",
       " 'Medical': 3.53,\n",
       " 'Social': 2.66,\n",
       " 'Shopping': 2.25,\n",
       " 'Photography': 2.94,\n",
       " 'Travel & Local': 2.32,\n",
       " 'Travel & Local;Action & Adventure': 0.01,\n",
       " 'Tools': 8.45,\n",
       " 'Tools;Education': 0.01,\n",
       " 'Personalization': 3.32,\n",
       " 'Productivity': 3.89,\n",
       " 'Parenting': 0.5,\n",
       " 'Parenting;Music & Video': 0.07,\n",
       " 'Parenting;Education': 0.08,\n",
       " 'Parenting;Brain Games': 0.01,\n",
       " 'Weather': 0.8,\n",
       " 'Video Players & Editors': 1.77,\n",
       " 'Video Players & Editors;Music & Video': 0.02,\n",
       " 'Video Players & Editors;Creativity': 0.01,\n",
       " 'News & Magazines': 2.8,\n",
       " 'Maps & Navigation': 1.4,\n",
       " 'Health & Fitness;Action & Adventure': 0.01,\n",
       " 'Educational': 0.37,\n",
       " 'Casino': 0.43,\n",
       " 'Trivia;Education': 0.01,\n",
       " 'Lifestyle;Education': 0.01,\n",
       " 'Card;Action & Adventure': 0.01,\n",
       " 'Books & Reference;Education': 0.01,\n",
       " 'Simulation;Education': 0.01,\n",
       " 'Puzzle;Education': 0.01,\n",
       " 'Adventure;Education': 0.01,\n",
       " 'Role Playing;Brain Games': 0.01,\n",
       " 'Strategy;Education': 0.01,\n",
       " 'Racing;Pretend Play': 0.01,\n",
       " 'Communication;Creativity': 0.01,\n",
       " 'Strategy;Creativity': 0.01}"
      ]
     },
     "execution_count": 17,
     "metadata": {},
     "output_type": "execute_result"
    }
   ],
   "source": [
    "freq_table(Google_free, 9)"
   ]
  },
  {
   "cell_type": "markdown",
   "metadata": {},
   "source": [
    "The code below is copied from Dataquest. It uses the function `freq_table` and sorts the frequencies by descending order."
   ]
  },
  {
   "cell_type": "code",
   "execution_count": 18,
   "metadata": {},
   "outputs": [],
   "source": [
    "def display_table(dataset, index):\n",
    "    table = freq_table(dataset, index)\n",
    "    table_display = []\n",
    "    for key in table:\n",
    "        key_val_as_tuple = (table[key], key)\n",
    "        table_display.append(key_val_as_tuple)\n",
    "\n",
    "    table_sorted = sorted(table_display, reverse = True)\n",
    "    for entry in table_sorted:\n",
    "        print(entry[1], ':', entry[0])"
   ]
  },
  {
   "cell_type": "code",
   "execution_count": 19,
   "metadata": {},
   "outputs": [
    {
     "name": "stdout",
     "output_type": "stream",
     "text": [
      "Tools : 8.45\n",
      "Entertainment : 6.07\n",
      "Education : 5.35\n",
      "Business : 4.59\n",
      "Productivity : 3.89\n",
      "Lifestyle : 3.89\n",
      "Finance : 3.7\n",
      "Medical : 3.53\n",
      "Sports : 3.46\n",
      "Personalization : 3.32\n",
      "Communication : 3.24\n",
      "Action : 3.1\n",
      "Health & Fitness : 3.08\n",
      "Photography : 2.94\n",
      "News & Magazines : 2.8\n",
      "Social : 2.66\n",
      "Travel & Local : 2.32\n",
      "Shopping : 2.25\n",
      "Books & Reference : 2.14\n",
      "Simulation : 2.04\n",
      "Dating : 1.86\n",
      "Arcade : 1.85\n",
      "Video Players & Editors : 1.77\n",
      "Casual : 1.76\n",
      "Maps & Navigation : 1.4\n",
      "Food & Drink : 1.24\n",
      "Puzzle : 1.13\n",
      "Racing : 0.99\n",
      "Role Playing : 0.94\n",
      "Libraries & Demo : 0.94\n",
      "Auto & Vehicles : 0.93\n",
      "Strategy : 0.91\n",
      "House & Home : 0.82\n",
      "Weather : 0.8\n",
      "Events : 0.71\n",
      "Adventure : 0.68\n",
      "Comics : 0.61\n",
      "Beauty : 0.6\n",
      "Art & Design : 0.6\n",
      "Parenting : 0.5\n",
      "Card : 0.45\n",
      "Casino : 0.43\n",
      "Trivia : 0.42\n",
      "Educational;Education : 0.39\n",
      "Board : 0.38\n",
      "Educational : 0.37\n",
      "Education;Education : 0.34\n",
      "Word : 0.26\n",
      "Casual;Pretend Play : 0.24\n",
      "Music : 0.2\n",
      "Racing;Action & Adventure : 0.17\n",
      "Puzzle;Brain Games : 0.17\n",
      "Entertainment;Music & Video : 0.17\n",
      "Casual;Brain Games : 0.14\n",
      "Casual;Action & Adventure : 0.14\n",
      "Arcade;Action & Adventure : 0.12\n",
      "Action;Action & Adventure : 0.1\n",
      "Educational;Pretend Play : 0.09\n",
      "Simulation;Action & Adventure : 0.08\n",
      "Parenting;Education : 0.08\n",
      "Entertainment;Brain Games : 0.08\n",
      "Board;Brain Games : 0.08\n",
      "Parenting;Music & Video : 0.07\n",
      "Educational;Brain Games : 0.07\n",
      "Casual;Creativity : 0.07\n",
      "Art & Design;Creativity : 0.07\n",
      "Education;Pretend Play : 0.06\n",
      "Role Playing;Pretend Play : 0.05\n",
      "Education;Creativity : 0.05\n",
      "Role Playing;Action & Adventure : 0.03\n",
      "Puzzle;Action & Adventure : 0.03\n",
      "Entertainment;Creativity : 0.03\n",
      "Entertainment;Action & Adventure : 0.03\n",
      "Educational;Creativity : 0.03\n",
      "Educational;Action & Adventure : 0.03\n",
      "Education;Music & Video : 0.03\n",
      "Education;Brain Games : 0.03\n",
      "Education;Action & Adventure : 0.03\n",
      "Adventure;Action & Adventure : 0.03\n",
      "Video Players & Editors;Music & Video : 0.02\n",
      "Sports;Action & Adventure : 0.02\n",
      "Simulation;Pretend Play : 0.02\n",
      "Puzzle;Creativity : 0.02\n",
      "Music;Music & Video : 0.02\n",
      "Entertainment;Pretend Play : 0.02\n",
      "Casual;Education : 0.02\n",
      "Board;Action & Adventure : 0.02\n",
      "Video Players & Editors;Creativity : 0.01\n",
      "Trivia;Education : 0.01\n",
      "Travel & Local;Action & Adventure : 0.01\n",
      "Tools;Education : 0.01\n",
      "Strategy;Education : 0.01\n",
      "Strategy;Creativity : 0.01\n",
      "Strategy;Action & Adventure : 0.01\n",
      "Simulation;Education : 0.01\n",
      "Role Playing;Brain Games : 0.01\n",
      "Racing;Pretend Play : 0.01\n",
      "Puzzle;Education : 0.01\n",
      "Parenting;Brain Games : 0.01\n",
      "Music & Audio;Music & Video : 0.01\n",
      "Lifestyle;Pretend Play : 0.01\n",
      "Lifestyle;Education : 0.01\n",
      "Health & Fitness;Education : 0.01\n",
      "Health & Fitness;Action & Adventure : 0.01\n",
      "Entertainment;Education : 0.01\n",
      "Communication;Creativity : 0.01\n",
      "Comics;Creativity : 0.01\n",
      "Casual;Music & Video : 0.01\n",
      "Card;Action & Adventure : 0.01\n",
      "Books & Reference;Education : 0.01\n",
      "Art & Design;Pretend Play : 0.01\n",
      "Art & Design;Action & Adventure : 0.01\n",
      "Arcade;Pretend Play : 0.01\n",
      "Adventure;Education : 0.01\n"
     ]
    }
   ],
   "source": [
    "display_table(Google_free, 9) #Genres"
   ]
  },
  {
   "cell_type": "markdown",
   "metadata": {},
   "source": [
    "By looking at this frequency table, I can see that \n",
    "1. Tools is the biggest category. \n",
    "2. The difference between categories is not anything surprising. \n",
    "3. The categories could be skewed because there are so many sub-categories.\n",
    "\n",
    "Based on this frequency table alone, I would recommend a Tool, Entertainment, Education, or Business app. However, I will need to see whether #1 on the frequency table is related to high numbers of users. It may not be the case."
   ]
  },
  {
   "cell_type": "code",
   "execution_count": 20,
   "metadata": {},
   "outputs": [
    {
     "name": "stdout",
     "output_type": "stream",
     "text": [
      "FAMILY : 18.91\n",
      "GAME : 9.72\n",
      "TOOLS : 8.46\n",
      "BUSINESS : 4.59\n",
      "LIFESTYLE : 3.9\n",
      "PRODUCTIVITY : 3.89\n",
      "FINANCE : 3.7\n",
      "MEDICAL : 3.53\n",
      "SPORTS : 3.4\n",
      "PERSONALIZATION : 3.32\n",
      "COMMUNICATION : 3.24\n",
      "HEALTH_AND_FITNESS : 3.08\n",
      "PHOTOGRAPHY : 2.94\n",
      "NEWS_AND_MAGAZINES : 2.8\n",
      "SOCIAL : 2.66\n",
      "TRAVEL_AND_LOCAL : 2.34\n",
      "SHOPPING : 2.25\n",
      "BOOKS_AND_REFERENCE : 2.14\n",
      "DATING : 1.86\n",
      "VIDEO_PLAYERS : 1.79\n",
      "MAPS_AND_NAVIGATION : 1.4\n",
      "FOOD_AND_DRINK : 1.24\n",
      "EDUCATION : 1.16\n",
      "ENTERTAINMENT : 0.96\n",
      "LIBRARIES_AND_DEMO : 0.94\n",
      "AUTO_AND_VEHICLES : 0.93\n",
      "HOUSE_AND_HOME : 0.82\n",
      "WEATHER : 0.8\n",
      "EVENTS : 0.71\n",
      "PARENTING : 0.65\n",
      "ART_AND_DESIGN : 0.64\n",
      "COMICS : 0.62\n",
      "BEAUTY : 0.6\n"
     ]
    }
   ],
   "source": [
    "display_table(Google_free, 1) #Category"
   ]
  },
  {
   "cell_type": "markdown",
   "metadata": {},
   "source": [
    "This table seems easier to read. I am a bit confused as to why Genres and Category are so different. I will need to investigate more as to why there is a need for Category and Genre."
   ]
  },
  {
   "cell_type": "code",
   "execution_count": 21,
   "metadata": {},
   "outputs": [
    {
     "name": "stdout",
     "output_type": "stream",
     "text": [
      "Games : 58.16\n",
      "Entertainment : 7.88\n",
      "Photo & Video : 4.97\n",
      "Education : 3.66\n",
      "Social Networking : 3.29\n",
      "Shopping : 2.61\n",
      "Utilities : 2.51\n",
      "Sports : 2.14\n",
      "Music : 2.05\n",
      "Health & Fitness : 2.02\n",
      "Productivity : 1.74\n",
      "Lifestyle : 1.58\n",
      "News : 1.33\n",
      "Travel : 1.24\n",
      "Finance : 1.12\n",
      "Weather : 0.87\n",
      "Food & Drink : 0.81\n",
      "Reference : 0.56\n",
      "Business : 0.53\n",
      "Book : 0.43\n",
      "Navigation : 0.19\n",
      "Medical : 0.19\n",
      "Catalogs : 0.12\n"
     ]
    }
   ],
   "source": [
    "display_table(Apple_free, 12) #prime_genre"
   ]
  },
  {
   "cell_type": "markdown",
   "metadata": {},
   "source": [
    "Gaming seems to be high on the list for both Google and Apple. Apple, however has significantly more gaming apps than Google. Interesting, I wonder why. "
   ]
  },
  {
   "cell_type": "markdown",
   "metadata": {},
   "source": [
    "### Most Popular Genres: Genres with the most users\n",
    "\n",
    "Now we are going to find out which genres are the most popular. To do this, we will measure the number of `Installs` on the Google dataset and will use `rating_count_tot` for the Apple dataset. Apple does not have an Installs column, so we are using a workaround. We are assuming that if someone has rated an app, they are also a user. Therefore, `rating_count_tot` will be a good indicator of popularity. "
   ]
  },
  {
   "cell_type": "markdown",
   "metadata": {},
   "source": [
    "We will start by calculating the average number of user ratings per app-genre on the Apple App store. To do this we will need to:\n",
    "1. Isolate the apps of each genre\n",
    "2. Sum up the user ratings for each app of that genre.\n",
    "3. Divide the sum by the number of apps belonging to that genre"
   ]
  },
  {
   "cell_type": "code",
   "execution_count": 26,
   "metadata": {},
   "outputs": [
    {
     "data": {
      "text/plain": [
       "{'Productivity': 1.74,\n",
       " 'Weather': 0.87,\n",
       " 'Shopping': 2.61,\n",
       " 'Reference': 0.56,\n",
       " 'Finance': 1.12,\n",
       " 'Music': 2.05,\n",
       " 'Utilities': 2.51,\n",
       " 'Travel': 1.24,\n",
       " 'Social Networking': 3.29,\n",
       " 'Sports': 2.14,\n",
       " 'Health & Fitness': 2.02,\n",
       " 'Games': 58.16,\n",
       " 'Food & Drink': 0.81,\n",
       " 'News': 1.33,\n",
       " 'Book': 0.43,\n",
       " 'Photo & Video': 4.97,\n",
       " 'Entertainment': 7.88,\n",
       " 'Business': 0.53,\n",
       " 'Lifestyle': 1.58,\n",
       " 'Education': 3.66,\n",
       " 'Navigation': 0.19,\n",
       " 'Medical': 0.19,\n",
       " 'Catalogs': 0.12}"
      ]
     },
     "execution_count": 26,
     "metadata": {},
     "output_type": "execute_result"
    }
   ],
   "source": [
    "freq_table(Apple_free, 12)"
   ]
  },
  {
   "cell_type": "markdown",
   "metadata": {},
   "source": [
    "Below is the average number of user ratings per genre on the Apple Apps Store."
   ]
  },
  {
   "cell_type": "code",
   "execution_count": 29,
   "metadata": {},
   "outputs": [
    {
     "name": "stdout",
     "output_type": "stream",
     "text": [
      "Productivity : 21028.41\n",
      "Weather : 52279.89\n",
      "Shopping : 26919.69\n",
      "Reference : 74942.11\n",
      "Finance : 31467.94\n",
      "Music : 57326.53\n",
      "Utilities : 18684.46\n",
      "Travel : 28243.8\n",
      "Social Networking : 71548.35\n",
      "Sports : 23008.9\n",
      "Health & Fitness : 23298.02\n",
      "Games : 22788.67\n",
      "Food & Drink : 33333.92\n",
      "News : 21248.02\n",
      "Book : 39758.5\n",
      "Photo & Video : 28441.54\n",
      "Entertainment : 14029.83\n",
      "Business : 7491.12\n",
      "Lifestyle : 16485.76\n",
      "Education : 7003.98\n",
      "Navigation : 86090.33\n",
      "Medical : 612.0\n",
      "Catalogs : 4004.0\n"
     ]
    }
   ],
   "source": [
    "Apple_genres = freq_table(Apple_free, 12)\n",
    "\n",
    "for genre in Apple_genres:\n",
    "    total = 0\n",
    "    len_genre = 0 #This will store the number of apps in each genre.\n",
    "    \n",
    "    for iteration in Apple_free:\n",
    "        genre_app = iteration[12]\n",
    "        if genre_app == genre:\n",
    "            ratings = float(iteration[6])\n",
    "            total += ratings\n",
    "            len_genre += 1\n",
    "    average = round((total / len_genre),2)\n",
    "    print(genre, \":\", average)\n",
    "   \n",
    "            \n",
    "        \n",
    "    "
   ]
  },
  {
   "cell_type": "markdown",
   "metadata": {},
   "source": [
    "Navigation seems to be the genre with the largest amount of ratings. However, when looking into the the specific genres, it seems that two apps, Google Maps and Waze, has significantly more than the rest. This means that the Navigation apps are either boom or bust and is not a reliable genre to pursue."
   ]
  },
  {
   "cell_type": "code",
   "execution_count": 33,
   "metadata": {},
   "outputs": [
    {
     "name": "stdout",
     "output_type": "stream",
     "text": [
      "Navigation Waze - GPS Navigation, Maps & Real-time Traffic : 345046\n",
      "Navigation Geocaching® : 12811\n",
      "Navigation ImmobilienScout24: Real Estate Search in Germany : 187\n",
      "Navigation Railway Route Search : 5\n",
      "Navigation CoPilot GPS – Car Navigation & Offline Maps : 3582\n",
      "Navigation Google Maps - Navigation & Transit : 154911\n"
     ]
    }
   ],
   "source": [
    "for iteration in Apple_free:\n",
    "    if iteration[12] == 'Navigation':\n",
    "        print(iteration[12],iteration[2],\":\",iteration[6])"
   ]
  },
  {
   "cell_type": "code",
   "execution_count": 43,
   "metadata": {},
   "outputs": [
    {
     "name": "stdout",
     "output_type": "stream",
     "text": [
      "ART_AND_DESIGN : 1986335.09\n",
      "AUTO_AND_VEHICLES : 647317.82\n",
      "BEAUTY : 513151.89\n",
      "BOOKS_AND_REFERENCE : 8767811.89\n",
      "BUSINESS : 1712290.15\n",
      "COMICS : 817657.27\n",
      "COMMUNICATION : 38456119.17\n",
      "DATING : 854028.83\n",
      "EDUCATION : 1833495.15\n",
      "ENTERTAINMENT : 11640705.88\n",
      "EVENTS : 253542.22\n",
      "FINANCE : 1387692.48\n",
      "FOOD_AND_DRINK : 1924897.74\n",
      "HEALTH_AND_FITNESS : 4188821.99\n",
      "HOUSE_AND_HOME : 1331540.56\n",
      "LIBRARIES_AND_DEMO : 638503.73\n",
      "LIFESTYLE : 1437816.27\n",
      "GAME : 15588015.6\n",
      "FAMILY : 3695641.82\n",
      "MEDICAL : 120550.62\n",
      "SOCIAL : 23253652.13\n",
      "SHOPPING : 7036877.31\n",
      "PHOTOGRAPHY : 17840110.4\n",
      "SPORTS : 3638640.14\n",
      "TRAVEL_AND_LOCAL : 13984077.71\n",
      "TOOLS : 10801391.3\n",
      "PERSONALIZATION : 5201482.61\n",
      "PRODUCTIVITY : 16787331.34\n",
      "PARENTING : 542603.62\n",
      "WEATHER : 5074486.2\n",
      "VIDEO_PLAYERS : 24727872.45\n",
      "NEWS_AND_MAGAZINES : 9549178.47\n",
      "MAPS_AND_NAVIGATION : 4056941.77\n"
     ]
    }
   ],
   "source": [
    "Google_genres = freq_table(Google_free, 1)\n",
    "\n",
    "for category in Google_genres:\n",
    "    total = 0\n",
    "    len_category = 0\n",
    "    \n",
    "    for iteration in Google_free:\n",
    "        category_app = iteration[1]\n",
    "        if category_app == category:\n",
    "            installs = iteration[5]\n",
    "            installs = installs.replace('+','')\n",
    "            installs = installs.replace(',','')\n",
    "            installs = float(installs)\n",
    "            total += installs\n",
    "            len_category += 1\n",
    "    average = round((total/len_category),2)\n",
    "    print(category,\":\",average)\n",
    "            \n",
    "            \n",
    "            "
   ]
  },
  {
   "cell_type": "code",
   "execution_count": null,
   "metadata": {},
   "outputs": [],
   "source": []
  },
  {
   "cell_type": "code",
   "execution_count": null,
   "metadata": {},
   "outputs": [],
   "source": []
  },
  {
   "cell_type": "code",
   "execution_count": null,
   "metadata": {},
   "outputs": [],
   "source": []
  },
  {
   "cell_type": "code",
   "execution_count": null,
   "metadata": {},
   "outputs": [],
   "source": []
  },
  {
   "cell_type": "code",
   "execution_count": null,
   "metadata": {},
   "outputs": [],
   "source": []
  },
  {
   "cell_type": "code",
   "execution_count": null,
   "metadata": {},
   "outputs": [],
   "source": []
  },
  {
   "cell_type": "code",
   "execution_count": null,
   "metadata": {},
   "outputs": [],
   "source": []
  },
  {
   "cell_type": "code",
   "execution_count": null,
   "metadata": {},
   "outputs": [],
   "source": []
  },
  {
   "cell_type": "code",
   "execution_count": null,
   "metadata": {},
   "outputs": [],
   "source": []
  },
  {
   "cell_type": "code",
   "execution_count": null,
   "metadata": {},
   "outputs": [],
   "source": []
  }
 ],
 "metadata": {
  "kernelspec": {
   "display_name": "Python 3",
   "language": "python",
   "name": "python3"
  },
  "language_info": {
   "codemirror_mode": {
    "name": "ipython",
    "version": 3
   },
   "file_extension": ".py",
   "mimetype": "text/x-python",
   "name": "python",
   "nbconvert_exporter": "python",
   "pygments_lexer": "ipython3",
   "version": "3.7.1"
  }
 },
 "nbformat": 4,
 "nbformat_minor": 2
}
